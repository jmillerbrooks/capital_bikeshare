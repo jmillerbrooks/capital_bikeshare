{
 "cells": [
  {
   "cell_type": "markdown",
   "metadata": {},
   "source": [
    "# This Notebook Explores Additional Approaches to Tuning SARIMA\n",
    "\n",
    "- The large possibilities and computational demands of naively brut force tuning SARIMA by guessing have not been effective, to the point where it has been difficult to modularize the approach we'd planned on to automate testing all 40 ANCs\n",
    "\n",
    "- A large portion of the problem is attempting to fit models at reasonably high frequencies while maintaining the clear daily seasonality component in our data. This results in exploding gradients due to the larger s (also known as m) components\n",
    "\n",
    "- We will first try some \"auto ARIMA\" style tools to estimate best params\n",
    "\n",
    "- We will then (time permitting) attempt to find an implementation of \"Functional PCA\" (FPCA) as described in PAPER REFERENCE"
   ]
  },
  {
   "cell_type": "code",
   "execution_count": 1,
   "metadata": {},
   "outputs": [],
   "source": [
    "import cabi.etl.load as l\n",
    "import pandas as pd\n",
    "import numpy as np\n",
    "\n"
   ]
  },
  {
   "cell_type": "markdown",
   "metadata": {},
   "source": [
    "## Import the Data"
   ]
  },
  {
   "cell_type": "code",
   "execution_count": 2,
   "metadata": {},
   "outputs": [],
   "source": [
    "cols = ['1A', '2B', '3C', '4D']"
   ]
  },
  {
   "cell_type": "code",
   "execution_count": 3,
   "metadata": {},
   "outputs": [],
   "source": [
    "df = pd.concat([l.load_counts(col) for col in cols], axis=1)"
   ]
  },
  {
   "cell_type": "code",
   "execution_count": 4,
   "metadata": {},
   "outputs": [
    {
     "data": {
      "text/html": [
       "<div>\n",
       "<style scoped>\n",
       "    .dataframe tbody tr th:only-of-type {\n",
       "        vertical-align: middle;\n",
       "    }\n",
       "\n",
       "    .dataframe tbody tr th {\n",
       "        vertical-align: top;\n",
       "    }\n",
       "\n",
       "    .dataframe thead th {\n",
       "        text-align: right;\n",
       "    }\n",
       "</style>\n",
       "<table border=\"1\" class=\"dataframe\">\n",
       "  <thead>\n",
       "    <tr style=\"text-align: right;\">\n",
       "      <th></th>\n",
       "      <th>1A</th>\n",
       "      <th>2B</th>\n",
       "      <th>3C</th>\n",
       "      <th>4D</th>\n",
       "    </tr>\n",
       "    <tr>\n",
       "      <th>time</th>\n",
       "      <th></th>\n",
       "      <th></th>\n",
       "      <th></th>\n",
       "      <th></th>\n",
       "    </tr>\n",
       "  </thead>\n",
       "  <tbody>\n",
       "    <tr>\n",
       "      <th>2020-04-01 00:25:48</th>\n",
       "      <td>0</td>\n",
       "      <td>0</td>\n",
       "      <td>0</td>\n",
       "      <td>0</td>\n",
       "    </tr>\n",
       "    <tr>\n",
       "      <th>2020-04-01 00:27:59</th>\n",
       "      <td>0</td>\n",
       "      <td>0</td>\n",
       "      <td>0</td>\n",
       "      <td>0</td>\n",
       "    </tr>\n",
       "    <tr>\n",
       "      <th>2020-04-01 01:36:09</th>\n",
       "      <td>0</td>\n",
       "      <td>0</td>\n",
       "      <td>0</td>\n",
       "      <td>0</td>\n",
       "    </tr>\n",
       "    <tr>\n",
       "      <th>2020-04-01 01:39:17</th>\n",
       "      <td>0</td>\n",
       "      <td>0</td>\n",
       "      <td>0</td>\n",
       "      <td>0</td>\n",
       "    </tr>\n",
       "    <tr>\n",
       "      <th>2020-04-01 01:47:36</th>\n",
       "      <td>-1</td>\n",
       "      <td>0</td>\n",
       "      <td>0</td>\n",
       "      <td>0</td>\n",
       "    </tr>\n",
       "    <tr>\n",
       "      <th>...</th>\n",
       "      <td>...</td>\n",
       "      <td>...</td>\n",
       "      <td>...</td>\n",
       "      <td>...</td>\n",
       "    </tr>\n",
       "    <tr>\n",
       "      <th>2020-08-01 01:52:27</th>\n",
       "      <td>0</td>\n",
       "      <td>0</td>\n",
       "      <td>0</td>\n",
       "      <td>0</td>\n",
       "    </tr>\n",
       "    <tr>\n",
       "      <th>2020-08-01 01:56:45</th>\n",
       "      <td>0</td>\n",
       "      <td>0</td>\n",
       "      <td>0</td>\n",
       "      <td>0</td>\n",
       "    </tr>\n",
       "    <tr>\n",
       "      <th>2020-08-01 02:50:22</th>\n",
       "      <td>0</td>\n",
       "      <td>0</td>\n",
       "      <td>0</td>\n",
       "      <td>0</td>\n",
       "    </tr>\n",
       "    <tr>\n",
       "      <th>2020-08-01 02:50:28</th>\n",
       "      <td>0</td>\n",
       "      <td>0</td>\n",
       "      <td>0</td>\n",
       "      <td>0</td>\n",
       "    </tr>\n",
       "    <tr>\n",
       "      <th>2020-08-01 08:13:39</th>\n",
       "      <td>0</td>\n",
       "      <td>0</td>\n",
       "      <td>0</td>\n",
       "      <td>0</td>\n",
       "    </tr>\n",
       "  </tbody>\n",
       "</table>\n",
       "<p>1319554 rows × 4 columns</p>\n",
       "</div>"
      ],
      "text/plain": [
       "                     1A  2B  3C  4D\n",
       "time                               \n",
       "2020-04-01 00:25:48   0   0   0   0\n",
       "2020-04-01 00:27:59   0   0   0   0\n",
       "2020-04-01 01:36:09   0   0   0   0\n",
       "2020-04-01 01:39:17   0   0   0   0\n",
       "2020-04-01 01:47:36  -1   0   0   0\n",
       "...                  ..  ..  ..  ..\n",
       "2020-08-01 01:52:27   0   0   0   0\n",
       "2020-08-01 01:56:45   0   0   0   0\n",
       "2020-08-01 02:50:22   0   0   0   0\n",
       "2020-08-01 02:50:28   0   0   0   0\n",
       "2020-08-01 08:13:39   0   0   0   0\n",
       "\n",
       "[1319554 rows x 4 columns]"
      ]
     },
     "execution_count": 4,
     "metadata": {},
     "output_type": "execute_result"
    }
   ],
   "source": [
    "df"
   ]
  },
  {
   "cell_type": "code",
   "execution_count": 13,
   "metadata": {},
   "outputs": [],
   "source": [
    "from pmdarima.arima import ADFTest\n",
    "from pmdarima.arima.utils import nsdiffs\n",
    "adf_test = ADFTest(alpha = 0.05)\n"
   ]
  },
  {
   "cell_type": "markdown",
   "metadata": {},
   "source": [
    "## Prepare Data for Forecasting"
   ]
  },
  {
   "cell_type": "code",
   "execution_count": 7,
   "metadata": {},
   "outputs": [],
   "source": [
    "from scipy.stats import mode"
   ]
  },
  {
   "cell_type": "code",
   "execution_count": 8,
   "metadata": {},
   "outputs": [],
   "source": [
    "# Target is the cumulative change over six hour period\n",
    "df_six_hours = df.rolling('6H').sum()\n"
   ]
  },
  {
   "cell_type": "code",
   "execution_count": 10,
   "metadata": {},
   "outputs": [
    {
     "data": {
      "text/html": [
       "<div>\n",
       "<style scoped>\n",
       "    .dataframe tbody tr th:only-of-type {\n",
       "        vertical-align: middle;\n",
       "    }\n",
       "\n",
       "    .dataframe tbody tr th {\n",
       "        vertical-align: top;\n",
       "    }\n",
       "\n",
       "    .dataframe thead th {\n",
       "        text-align: right;\n",
       "    }\n",
       "</style>\n",
       "<table border=\"1\" class=\"dataframe\">\n",
       "  <thead>\n",
       "    <tr style=\"text-align: right;\">\n",
       "      <th></th>\n",
       "      <th>1A</th>\n",
       "      <th>2B</th>\n",
       "      <th>3C</th>\n",
       "      <th>4D</th>\n",
       "    </tr>\n",
       "    <tr>\n",
       "      <th>time</th>\n",
       "      <th></th>\n",
       "      <th></th>\n",
       "      <th></th>\n",
       "      <th></th>\n",
       "    </tr>\n",
       "  </thead>\n",
       "  <tbody>\n",
       "    <tr>\n",
       "      <th>2020-04-01 00:00:00</th>\n",
       "      <td>0.0</td>\n",
       "      <td>0.0</td>\n",
       "      <td>0.0</td>\n",
       "      <td>0.0</td>\n",
       "    </tr>\n",
       "    <tr>\n",
       "      <th>2020-04-01 01:00:00</th>\n",
       "      <td>-1.0</td>\n",
       "      <td>0.0</td>\n",
       "      <td>0.0</td>\n",
       "      <td>0.0</td>\n",
       "    </tr>\n",
       "    <tr>\n",
       "      <th>2020-04-01 02:00:00</th>\n",
       "      <td>-2.0</td>\n",
       "      <td>0.0</td>\n",
       "      <td>0.0</td>\n",
       "      <td>0.0</td>\n",
       "    </tr>\n",
       "    <tr>\n",
       "      <th>2020-04-01 03:00:00</th>\n",
       "      <td>-3.0</td>\n",
       "      <td>0.0</td>\n",
       "      <td>0.0</td>\n",
       "      <td>0.0</td>\n",
       "    </tr>\n",
       "    <tr>\n",
       "      <th>2020-04-01 04:00:00</th>\n",
       "      <td>-3.0</td>\n",
       "      <td>0.0</td>\n",
       "      <td>0.0</td>\n",
       "      <td>0.0</td>\n",
       "    </tr>\n",
       "    <tr>\n",
       "      <th>...</th>\n",
       "      <td>...</td>\n",
       "      <td>...</td>\n",
       "      <td>...</td>\n",
       "      <td>...</td>\n",
       "    </tr>\n",
       "    <tr>\n",
       "      <th>2020-08-01 04:00:00</th>\n",
       "      <td>0.0</td>\n",
       "      <td>0.0</td>\n",
       "      <td>0.0</td>\n",
       "      <td>0.0</td>\n",
       "    </tr>\n",
       "    <tr>\n",
       "      <th>2020-08-01 05:00:00</th>\n",
       "      <td>0.0</td>\n",
       "      <td>0.0</td>\n",
       "      <td>0.0</td>\n",
       "      <td>0.0</td>\n",
       "    </tr>\n",
       "    <tr>\n",
       "      <th>2020-08-01 06:00:00</th>\n",
       "      <td>0.0</td>\n",
       "      <td>0.0</td>\n",
       "      <td>0.0</td>\n",
       "      <td>0.0</td>\n",
       "    </tr>\n",
       "    <tr>\n",
       "      <th>2020-08-01 07:00:00</th>\n",
       "      <td>0.0</td>\n",
       "      <td>0.0</td>\n",
       "      <td>0.0</td>\n",
       "      <td>0.0</td>\n",
       "    </tr>\n",
       "    <tr>\n",
       "      <th>2020-08-01 08:00:00</th>\n",
       "      <td>0.0</td>\n",
       "      <td>0.0</td>\n",
       "      <td>0.0</td>\n",
       "      <td>0.0</td>\n",
       "    </tr>\n",
       "  </tbody>\n",
       "</table>\n",
       "<p>2937 rows × 4 columns</p>\n",
       "</div>"
      ],
      "text/plain": [
       "                      1A   2B   3C   4D\n",
       "time                                   \n",
       "2020-04-01 00:00:00  0.0  0.0  0.0  0.0\n",
       "2020-04-01 01:00:00 -1.0  0.0  0.0  0.0\n",
       "2020-04-01 02:00:00 -2.0  0.0  0.0  0.0\n",
       "2020-04-01 03:00:00 -3.0  0.0  0.0  0.0\n",
       "2020-04-01 04:00:00 -3.0  0.0  0.0  0.0\n",
       "...                  ...  ...  ...  ...\n",
       "2020-08-01 04:00:00  0.0  0.0  0.0  0.0\n",
       "2020-08-01 05:00:00  0.0  0.0  0.0  0.0\n",
       "2020-08-01 06:00:00  0.0  0.0  0.0  0.0\n",
       "2020-08-01 07:00:00  0.0  0.0  0.0  0.0\n",
       "2020-08-01 08:00:00  0.0  0.0  0.0  0.0\n",
       "\n",
       "[2937 rows x 4 columns]"
      ]
     },
     "execution_count": 10,
     "metadata": {},
     "output_type": "execute_result"
    }
   ],
   "source": [
    "# regularize target frequency\n",
    "hourly = df_six_hours.resample('1H').apply(lambda x: mode(x)[0] if mode(x)[0].size > 0 else 0)\n",
    "\n",
    "hourly\n"
   ]
  },
  {
   "cell_type": "code",
   "execution_count": 14,
   "metadata": {},
   "outputs": [
    {
     "data": {
      "text/plain": [
       "{'1A': (0.01, False),\n",
       " '2B': (0.01, False),\n",
       " '3C': (0.01, False),\n",
       " '4D': (0.01, False)}"
      ]
     },
     "execution_count": 14,
     "metadata": {},
     "output_type": "execute_result"
    }
   ],
   "source": [
    "# Test Stationarity of the series\n",
    "adf_tests_dict = {col:adf_test.should_diff(hourly[col]) for col in hourly.columns}\n",
    "adf_tests_dict"
   ]
  },
  {
   "cell_type": "markdown",
   "metadata": {},
   "source": [
    "## Above result implies stationarity (should not difference i.e. d=0)\n"
   ]
  },
  {
   "cell_type": "code",
   "execution_count": 15,
   "metadata": {},
   "outputs": [
    {
     "name": "stdout",
     "output_type": "stream",
     "text": [
      "CPU times: user 301 ms, sys: 7.53 ms, total: 308 ms\n",
      "Wall time: 85.9 ms\n"
     ]
    }
   ],
   "source": [
    "%%time\n",
    "\n",
    "# Test Seasonal Differencing Term\n",
    "## SOURCE MATERIAL AT https://alkaline-ml.com/pmdarima/tips_and_tricks.html\n",
    "\n",
    "# Testing with a 24 hour (daily) seasonal component m\n",
    "# also known as 's' in the SARIMAX implementations\n",
    "# D may be quite large, but we'll start with 6 to test runtime\n",
    "# and %%time the cell, will try both Canova-Hansen\n",
    "# and default ocsb tests\n",
    "D_dict = {col:nsdiffs(hourly[col],\n",
    "                     m=24,\n",
    "                     max_D=6,\n",
    "                     test='ch')\n",
    "          for col in hourly.columns}\n"
   ]
  },
  {
   "cell_type": "code",
   "execution_count": 17,
   "metadata": {},
   "outputs": [
    {
     "data": {
      "text/plain": [
       "{'1A': 1, '2B': 1, '3C': 1, '4D': 0}"
      ]
     },
     "execution_count": 17,
     "metadata": {},
     "output_type": "execute_result"
    }
   ],
   "source": [
    "D_dict"
   ]
  },
  {
   "cell_type": "code",
   "execution_count": 25,
   "metadata": {},
   "outputs": [
    {
     "name": "stdout",
     "output_type": "stream",
     "text": [
      "CPU times: user 320 ms, sys: 5.49 ms, total: 326 ms\n",
      "Wall time: 86.9 ms\n"
     ]
    },
    {
     "data": {
      "text/plain": [
       "{'1A': 1, '2B': 1, '3C': 1, '4D': 0}"
      ]
     },
     "execution_count": 25,
     "metadata": {},
     "output_type": "execute_result"
    }
   ],
   "source": [
    "%%time\n",
    "\n",
    "# That Ran Really Fast!\n",
    "# Let's try larger max D, and then ocsb tests\n",
    "D_dict = {col:nsdiffs(hourly[col],\n",
    "                     m=24,\n",
    "                     max_D=24,\n",
    "                     test='ch')\n",
    "          for col in hourly.columns}\n",
    "\n",
    "D_dict\n"
   ]
  },
  {
   "cell_type": "code",
   "execution_count": 24,
   "metadata": {},
   "outputs": [
    {
     "name": "stdout",
     "output_type": "stream",
     "text": [
      "CPU times: user 164 ms, sys: 3.63 ms, total: 167 ms\n",
      "Wall time: 43.6 ms\n"
     ]
    },
    {
     "data": {
      "text/plain": [
       "{'1A': 0, '2B': 0, '3C': 0, '4D': 0}"
      ]
     },
     "execution_count": 24,
     "metadata": {},
     "output_type": "execute_result"
    }
   ],
   "source": [
    "%%time\n",
    "\n",
    "#Ocsb method\n",
    "\n",
    "D_dict_ocsb = {col:nsdiffs(hourly[col],\n",
    "                     m=24,\n",
    "                     max_D=12,\n",
    "                     test='ocsb')\n",
    "          for col in hourly.columns}\n",
    "\n",
    "D_dict_ocsb"
   ]
  },
  {
   "cell_type": "markdown",
   "metadata": {},
   "source": [
    "## OCSB Test indicates no differencing, but Canova-Hansen Disagrees\n",
    "\n",
    "- We may want to try both, but let's try D=1 for now as the PACF plots we've looked at previously indicate some seasonal differencing may be appropriate\n",
    "\n",
    "- Let's try a first go at auto_arima, we won't cross-validate at first just to get a sense of the time we're looking at to fit"
   ]
  },
  {
   "cell_type": "code",
   "execution_count": 35,
   "metadata": {},
   "outputs": [],
   "source": [
    "import pmdarima as pm\n",
    "\n",
    "# We'll Model 1 column first\n",
    "data = hourly['1A']\n",
    "\n",
    "# Split - We'll do a one week prediction with one month's data\n",
    "train = data[(hourly.index > '2020-06-07 04:00:00') & (hourly.index <= '2020-07-07 04:00:00')]\n",
    "test = data[(hourly.index > '2020-07-07 04:00:00') & (hourly.index <= '2020-07-14 04:00:00')]"
   ]
  },
  {
   "cell_type": "code",
   "execution_count": 37,
   "metadata": {},
   "outputs": [
    {
     "name": "stderr",
     "output_type": "stream",
     "text": [
      "/opt/anaconda3/lib/python3.7/site-packages/statsmodels/tsa/statespace/sarimax.py:963: UserWarning: Non-stationary starting autoregressive parameters found. Using zeros as starting parameters.\n",
      "  warn('Non-stationary starting autoregressive parameters'\n",
      "/opt/anaconda3/lib/python3.7/site-packages/statsmodels/base/model.py:568: ConvergenceWarning: Maximum Likelihood optimization failed to converge. Check mle_retvals\n",
      "  \"Check mle_retvals\", ConvergenceWarning)\n",
      "/opt/anaconda3/lib/python3.7/site-packages/statsmodels/base/model.py:568: ConvergenceWarning: Maximum Likelihood optimization failed to converge. Check mle_retvals\n",
      "  \"Check mle_retvals\", ConvergenceWarning)\n",
      "/opt/anaconda3/lib/python3.7/site-packages/statsmodels/base/model.py:568: ConvergenceWarning: Maximum Likelihood optimization failed to converge. Check mle_retvals\n",
      "  \"Check mle_retvals\", ConvergenceWarning)\n",
      "/opt/anaconda3/lib/python3.7/site-packages/statsmodels/base/model.py:568: ConvergenceWarning: Maximum Likelihood optimization failed to converge. Check mle_retvals\n",
      "  \"Check mle_retvals\", ConvergenceWarning)\n",
      "/opt/anaconda3/lib/python3.7/site-packages/statsmodels/base/model.py:568: ConvergenceWarning: Maximum Likelihood optimization failed to converge. Check mle_retvals\n",
      "  \"Check mle_retvals\", ConvergenceWarning)\n",
      "/opt/anaconda3/lib/python3.7/site-packages/statsmodels/base/model.py:568: ConvergenceWarning: Maximum Likelihood optimization failed to converge. Check mle_retvals\n",
      "  \"Check mle_retvals\", ConvergenceWarning)\n",
      "/opt/anaconda3/lib/python3.7/site-packages/statsmodels/base/model.py:568: ConvergenceWarning: Maximum Likelihood optimization failed to converge. Check mle_retvals\n",
      "  \"Check mle_retvals\", ConvergenceWarning)\n",
      "/opt/anaconda3/lib/python3.7/site-packages/statsmodels/base/model.py:568: ConvergenceWarning: Maximum Likelihood optimization failed to converge. Check mle_retvals\n",
      "  \"Check mle_retvals\", ConvergenceWarning)\n",
      "/opt/anaconda3/lib/python3.7/site-packages/statsmodels/base/model.py:568: ConvergenceWarning: Maximum Likelihood optimization failed to converge. Check mle_retvals\n",
      "  \"Check mle_retvals\", ConvergenceWarning)\n",
      "/opt/anaconda3/lib/python3.7/site-packages/statsmodels/base/model.py:568: ConvergenceWarning: Maximum Likelihood optimization failed to converge. Check mle_retvals\n",
      "  \"Check mle_retvals\", ConvergenceWarning)\n"
     ]
    },
    {
     "name": "stdout",
     "output_type": "stream",
     "text": [
      "CPU times: user 10min 8s, sys: 2.97 s, total: 10min 11s\n",
      "Wall time: 2min 53s\n"
     ]
    }
   ],
   "source": [
    "%%time\n",
    "\n",
    "# Leaving the defaults to benchmark time,\n",
    "# we'll look at effect of passing some params shortly\n",
    "model = pm.auto_arima(train, error_action='ignore', seasonal=True, m=24)\n"
   ]
  },
  {
   "cell_type": "code",
   "execution_count": 38,
   "metadata": {},
   "outputs": [
    {
     "data": {
      "text/plain": [
       "ARIMA(maxiter=50, method='lbfgs', order=(5, 0, 0), out_of_sample_size=0,\n",
       "      scoring='mse', scoring_args={}, seasonal_order=(2, 0, 0, 24),\n",
       "      start_params=None, suppress_warnings=False, trend=None,\n",
       "      with_intercept=True)"
      ]
     },
     "execution_count": 38,
     "metadata": {},
     "output_type": "execute_result"
    }
   ],
   "source": [
    "model"
   ]
  },
  {
   "cell_type": "markdown",
   "metadata": {},
   "source": [
    "## Under 3 Minutes? That Was Insanely Faster than the Several Hours We've Been Looking at with Brute Force GridSearch from Scratch\n",
    "\n",
    "- Let's see how the model performed and then give this another go using some of our intuition from previous (maybe not fruitless?) attempts"
   ]
  },
  {
   "cell_type": "code",
   "execution_count": 40,
   "metadata": {},
   "outputs": [
    {
     "data": {
      "text/plain": [
       "Text(0.5, 1.0, 'Test samples vs. forecasts (m=24)')"
      ]
     },
     "execution_count": 40,
     "metadata": {},
     "output_type": "execute_result"
    },
    {
     "data": {
      "image/png": "[encoded data removed]",
      "text/plain": [
       "<Figure size 864x576 with 1 Axes>"
      ]
     },
     "metadata": {
      "needs_background": "light"
     },
     "output_type": "display_data"
    }
   ],
   "source": [
    "# Cribbing the perfectly nice implementation from the pmdarima\n",
    "# docs cited above\n",
    "\n",
    "import matplotlib.pyplot as plt\n",
    "\n",
    "fig, ax = plt.subplots(figsize=(12, 8))\n",
    "x = np.arange(test.shape[0])\n",
    "\n",
    "# Plot m=1\n",
    "ax.scatter(x, test, marker='x')\n",
    "ax.plot(x, model.predict(n_periods=test.shape[0]))\n",
    "ax.set_title('Test samples vs. forecasts (m=24)')\n",
    "\n"
   ]
  },
  {
   "cell_type": "code",
   "execution_count": 41,
   "metadata": {},
   "outputs": [
    {
     "name": "stdout",
     "output_type": "stream",
     "text": [
      "                                     SARIMAX Results                                      \n",
      "==========================================================================================\n",
      "Dep. Variable:                                  y   No. Observations:                  720\n",
      "Model:             SARIMAX(5, 0, 0)x(2, 0, 0, 24)   Log Likelihood               -2415.312\n",
      "Date:                            Thu, 03 Sep 2020   AIC                           4848.624\n",
      "Time:                                    00:02:33   BIC                           4889.837\n",
      "Sample:                                         0   HQIC                          4864.535\n",
      "                                            - 720                                         \n",
      "Covariance Type:                              opg                                         \n",
      "==============================================================================\n",
      "                 coef    std err          z      P>|z|      [0.025      0.975]\n",
      "------------------------------------------------------------------------------\n",
      "intercept     -3.0878      0.445     -6.933      0.000      -3.961      -2.215\n",
      "ar.L1          1.0069      0.037     26.905      0.000       0.934       1.080\n",
      "ar.L2          0.0384      0.052      0.740      0.459      -0.063       0.140\n",
      "ar.L3         -0.0703      0.050     -1.399      0.162      -0.169       0.028\n",
      "ar.L4         -0.0177      0.048     -0.370      0.711      -0.111       0.076\n",
      "ar.L5         -0.1857      0.038     -4.852      0.000      -0.261      -0.111\n",
      "ar.S.L24       0.1140      0.038      3.009      0.003       0.040       0.188\n",
      "ar.S.L48       0.1061      0.041      2.616      0.009       0.027       0.186\n",
      "sigma2        47.7664      1.999     23.900      0.000      43.849      51.684\n",
      "===================================================================================\n",
      "Ljung-Box (Q):                      135.85   Jarque-Bera (JB):                58.32\n",
      "Prob(Q):                              0.00   Prob(JB):                         0.00\n",
      "Heteroskedasticity (H):               1.08   Skew:                             0.04\n",
      "Prob(H) (two-sided):                  0.56   Kurtosis:                         4.39\n",
      "===================================================================================\n",
      "\n",
      "Warnings:\n",
      "[1] Covariance matrix calculated using the outer product of gradients (complex-step).\n"
     ]
    }
   ],
   "source": [
    "print(model.summary())"
   ]
  },
  {
   "cell_type": "markdown",
   "metadata": {},
   "source": [
    "## Interpretation:\n",
    "\n",
    "- Not Horrible for being so fast, in fact, really good for being so fast. However, it's awfully smooth relatively quickly, (could be supplemented with walk-forward?).\n",
    "\n",
    "- Jarque-Bera and Ljung-Box already look way better at higher values of p that we have not been testingm but AIC is not as good as we've seen with more complexity at lower values with brute force\n",
    "\n",
    "- Let's try a little bit of tinkering with the auto-arima params"
   ]
  },
  {
   "cell_type": "code",
   "execution_count": 42,
   "metadata": {},
   "outputs": [],
   "source": [
    "# Intuition Says p is much higher, let's start with the\n",
    "# p we ended with, since that was a default max, and\n",
    "# there may well be better options higher up, likewise,\n",
    "# numerous brute force attempts have shown that higher P\n",
    "# is in general better than lower, let's start that where\n",
    "# we ended as well, last, D=1 seems like a reasonable bet\n",
    "# additionally, we'll likely hit a bunch of warnings,\n",
    "# let's suppress these\n",
    "model2 = pm.auto_arima(train, start_p=5,\n",
    "                       start_P=2,\n",
    "                       D=1,\n",
    "                       suppress_warnings=True,\n",
    "                       error_action='ignore',\n",
    "                       seasonal=True, m=24)\n"
   ]
  },
  {
   "cell_type": "code",
   "execution_count": 43,
   "metadata": {},
   "outputs": [
    {
     "data": {
      "text/plain": [
       "ARIMA(maxiter=50, method='lbfgs', order=(5, 0, 0), out_of_sample_size=0,\n",
       "      scoring='mse', scoring_args={}, seasonal_order=(2, 1, 0, 24),\n",
       "      start_params=None, suppress_warnings=True, trend=None,\n",
       "      with_intercept=False)"
      ]
     },
     "execution_count": 43,
     "metadata": {},
     "output_type": "execute_result"
    }
   ],
   "source": [
    "model2"
   ]
  },
  {
   "cell_type": "code",
   "execution_count": 46,
   "metadata": {},
   "outputs": [
    {
     "data": {
      "text/plain": [
       "Text(0.5, 1.0, 'Test samples vs. forecasts (m=24)')"
      ]
     },
     "execution_count": 46,
     "metadata": {},
     "output_type": "execute_result"
    },
    {
     "data": {
      "image/png": "[encoded data removed]",
      "text/plain": [
       "<Figure size 864x576 with 1 Axes>"
      ]
     },
     "metadata": {
      "needs_background": "light"
     },
     "output_type": "display_data"
    }
   ],
   "source": [
    "fig, ax = plt.subplots(figsize=(12, 8))\n",
    "x = np.arange(test.shape[0])\n",
    "\n",
    "# Plot m=1\n",
    "ax.scatter(x, test, marker='x')\n",
    "ax.plot(x, model2.predict(n_periods=test.shape[0]))\n",
    "ax.set_title('Test samples vs. forecasts (m=24)')"
   ]
  },
  {
   "cell_type": "code",
   "execution_count": 45,
   "metadata": {},
   "outputs": [
    {
     "name": "stdout",
     "output_type": "stream",
     "text": [
      "                                     SARIMAX Results                                      \n",
      "==========================================================================================\n",
      "Dep. Variable:                                  y   No. Observations:                  720\n",
      "Model:             SARIMAX(5, 0, 0)x(2, 1, 0, 24)   Log Likelihood               -2406.598\n",
      "Date:                            Thu, 03 Sep 2020   AIC                           4829.195\n",
      "Time:                                    00:14:14   BIC                           4865.558\n",
      "Sample:                                         0   HQIC                          4843.255\n",
      "                                            - 720                                         \n",
      "Covariance Type:                              opg                                         \n",
      "==============================================================================\n",
      "                 coef    std err          z      P>|z|      [0.025      0.975]\n",
      "------------------------------------------------------------------------------\n",
      "ar.L1          0.9188      0.039     23.595      0.000       0.843       0.995\n",
      "ar.L2          0.0427      0.057      0.746      0.455      -0.069       0.155\n",
      "ar.L3         -0.0517      0.049     -1.046      0.296      -0.149       0.045\n",
      "ar.L4         -0.0545      0.049     -1.117      0.264      -0.150       0.041\n",
      "ar.L5         -0.1338      0.040     -3.369      0.001      -0.212      -0.056\n",
      "ar.S.L24      -0.6333      0.036    -17.566      0.000      -0.704      -0.563\n",
      "ar.S.L48      -0.2725      0.036     -7.504      0.000      -0.344      -0.201\n",
      "sigma2        57.9641      2.646     21.904      0.000      52.777      63.151\n",
      "===================================================================================\n",
      "Ljung-Box (Q):                      124.44   Jarque-Bera (JB):                21.29\n",
      "Prob(Q):                              0.00   Prob(JB):                         0.00\n",
      "Heteroskedasticity (H):               1.01   Skew:                            -0.03\n",
      "Prob(H) (two-sided):                  0.93   Kurtosis:                         3.86\n",
      "===================================================================================\n",
      "\n",
      "Warnings:\n",
      "[1] Covariance matrix calculated using the outer product of gradients (complex-step).\n"
     ]
    }
   ],
   "source": [
    "print(model2.summary())"
   ]
  },
  {
   "cell_type": "markdown",
   "metadata": {},
   "source": [
    "## Runtime for the first model made us a bit too optimistic about the runtimes, should definitely have timed that one as well\n",
    "\n",
    "- Nonetheless, didn't take too long, and we've improved both Jarque-Bera and Ljung-Box slightly.\n",
    "\n",
    "- Most notable things about both of these results is that most of the AR terms are not significant at our default alpha of .05\n",
    "\n",
    "- The Second Model looks far better than the first when it comes to the predictions plot. The recovery of model performance towards the end of the one week period also begs the question of whether or not the days it did most poorly on were perhaps weekends? Let's investigate that below. If so, this would back our original intuition that it would be good to somehow include an additional \"weekly\" seasonality. One plot index where we appear to miss is around 100, let's investigate where that occurs in the test index before proceeding"
   ]
  },
  {
   "cell_type": "code",
   "execution_count": 53,
   "metadata": {},
   "outputs": [
    {
     "data": {
      "text/plain": [
       "'Saturday'"
      ]
     },
     "execution_count": 53,
     "metadata": {},
     "output_type": "execute_result"
    }
   ],
   "source": [
    "test.index[100].day_name()\n"
   ]
  },
  {
   "cell_type": "markdown",
   "metadata": {},
   "source": [
    "## This Model is Definitely Worth Saving\n",
    "- Let's Look at Adding an Additional Weekly Seasonal Component after we finish playing with auto_arima (even by a one-hot is_weekend type deal)\n",
    "\n",
    "Model Params:\n",
    "SARIMAX(5, 0, 0)x(2, 1, 0, 24)\n",
    "\n",
    "- Since we are doing reasonably well according to the predictions plot vs. test data, it's also worth starting to evaluate some more interpretable metrics moving forward.\n",
    "\n",
    "- One of the motivating papers behind the approach in this book has an excellent description of model metrics application to this type of problem, which we'll quote here:\n",
    "\n",
    "From https://scholarsmine.mst.edu/cgi/viewcontent.cgi?article=8666&context=masters_theses\n",
    "Extending time series forecasting methods using functional principal components analysis\n",
    "\n",
    "\"\"\"5.4. GENERATION OF FORECASTS AND PREDICTION INTERVALS\n",
    "These forecasts are only useful if they manage to describe the next day’s events.\n",
    "There are many ways to measure the quality of a forecast. The methods that will be used\n",
    "here are mean percent error (MPE), mean absolute percent error (MAPE) and root mean\n",
    "squared error (RMSE). MPE will demonstrate how the model overpredicts or underpredicts\n",
    "traffic over time while MAPE and RMSE will show how far apart the models are from\n",
    "reality.\n",
    "The mean and median values of MPE and MAPE are useful for determining if the\n",
    "models are consistently overpredicting or underpredicting traffic volume. MPE and MAPE\n",
    "do poorly when the observed data is zero or near zero. Outliers are best found using the\n",
    "RMSE measure. Since the RMSE is computed without using division, zero/small observed\n",
    "values do not distort the distribution of the population as much.\"\"\"\n",
    "\n",
    "Following this logic, let's bring in the necessary imports, we'll simplify a bit and just use MAPE instead of both MPE and MAPE."
   ]
  },
  {
   "cell_type": "code",
   "execution_count": 64,
   "metadata": {},
   "outputs": [],
   "source": [
    "# Imports\n",
    "from sklearn.metrics import mean_squared_error\n",
    "\n"
   ]
  },
  {
   "cell_type": "code",
   "execution_count": 65,
   "metadata": {},
   "outputs": [],
   "source": [
    "# Wrapping these a bit for ease of use\n",
    "\n",
    "def RMSE(y_true, y_pred):\n",
    "    return mean_squared_error(y_true, y_pred, squared=False)\n",
    "\n",
    "def MAPE(y_true, y_pred):\n",
    "     return np.mean(np.abs((y_true - y_pred) / y_true)) * 100"
   ]
  },
  {
   "cell_type": "code",
   "execution_count": 66,
   "metadata": {},
   "outputs": [
    {
     "name": "stdout",
     "output_type": "stream",
     "text": [
      "inf 14.068660022040872\n"
     ]
    }
   ],
   "source": [
    "# Slight Issue in that all of these are close to zero, may want to work out\n",
    "# a workaround on that.\n",
    "mod2_preds = model2.predict(n_periods=test.shape[0])\n",
    "print(MAPE(test, mod2_preds), RMSE(test, mod2_preds))"
   ]
  },
  {
   "cell_type": "markdown",
   "metadata": {},
   "source": [
    "### Okay, this looks like a decent fit, but let's test this a bit more and see how well we can do. We'll use a similar approach to our last iteration in hopes of packaging this up if it works.\n",
    "\n",
    "Starting from SARIMAX(5, 0, 0)x(2, 1, 0, 24):"
   ]
  },
  {
   "cell_type": "code",
   "execution_count": 68,
   "metadata": {},
   "outputs": [
    {
     "ename": "ValueError",
     "evalue": "max_P must be >= start_P",
     "output_type": "error",
     "traceback": [
      "\u001b[0;31m---------------------------------------------------------------------------\u001b[0m",
      "\u001b[0;31mValueError\u001b[0m                                Traceback (most recent call last)",
      "\u001b[0;32m<timed exec>\u001b[0m in \u001b[0;36m<module>\u001b[0;34m\u001b[0m\n",
      "\u001b[0;32m/opt/anaconda3/lib/python3.7/site-packages/pmdarima/arima/auto.py\u001b[0m in \u001b[0;36mauto_arima\u001b[0;34m(y, exogenous, start_p, d, start_q, max_p, max_d, max_q, start_P, D, start_Q, max_P, max_D, max_Q, max_order, m, seasonal, stationary, information_criterion, alpha, test, seasonal_test, stepwise, n_jobs, start_params, trend, method, maxiter, offset_test_args, seasonal_test_args, suppress_warnings, error_action, trace, random, random_state, n_fits, return_valid_fits, out_of_sample_size, scoring, scoring_args, with_intercept, sarimax_kwargs, **fit_args)\u001b[0m\n\u001b[1;32m    346\u001b[0m     \u001b[0mstart_p\u001b[0m\u001b[0;34m,\u001b[0m \u001b[0mmax_p\u001b[0m \u001b[0;34m=\u001b[0m \u001b[0mval\u001b[0m\u001b[0;34m.\u001b[0m\u001b[0mcheck_start_max_values\u001b[0m\u001b[0;34m(\u001b[0m\u001b[0mstart_p\u001b[0m\u001b[0;34m,\u001b[0m \u001b[0mmax_p\u001b[0m\u001b[0;34m,\u001b[0m \u001b[0;34m\"p\"\u001b[0m\u001b[0;34m)\u001b[0m\u001b[0;34m\u001b[0m\u001b[0;34m\u001b[0m\u001b[0m\n\u001b[1;32m    347\u001b[0m     \u001b[0mstart_q\u001b[0m\u001b[0;34m,\u001b[0m \u001b[0mmax_q\u001b[0m \u001b[0;34m=\u001b[0m \u001b[0mval\u001b[0m\u001b[0;34m.\u001b[0m\u001b[0mcheck_start_max_values\u001b[0m\u001b[0;34m(\u001b[0m\u001b[0mstart_q\u001b[0m\u001b[0;34m,\u001b[0m \u001b[0mmax_q\u001b[0m\u001b[0;34m,\u001b[0m \u001b[0;34m\"q\"\u001b[0m\u001b[0;34m)\u001b[0m\u001b[0;34m\u001b[0m\u001b[0;34m\u001b[0m\u001b[0m\n\u001b[0;32m--> 348\u001b[0;31m     \u001b[0mstart_P\u001b[0m\u001b[0;34m,\u001b[0m \u001b[0mmax_P\u001b[0m \u001b[0;34m=\u001b[0m \u001b[0mval\u001b[0m\u001b[0;34m.\u001b[0m\u001b[0mcheck_start_max_values\u001b[0m\u001b[0;34m(\u001b[0m\u001b[0mstart_P\u001b[0m\u001b[0;34m,\u001b[0m \u001b[0mmax_P\u001b[0m\u001b[0;34m,\u001b[0m \u001b[0;34m\"P\"\u001b[0m\u001b[0;34m)\u001b[0m\u001b[0;34m\u001b[0m\u001b[0;34m\u001b[0m\u001b[0m\n\u001b[0m\u001b[1;32m    349\u001b[0m     \u001b[0mstart_Q\u001b[0m\u001b[0;34m,\u001b[0m \u001b[0mmax_Q\u001b[0m \u001b[0;34m=\u001b[0m \u001b[0mval\u001b[0m\u001b[0;34m.\u001b[0m\u001b[0mcheck_start_max_values\u001b[0m\u001b[0;34m(\u001b[0m\u001b[0mstart_Q\u001b[0m\u001b[0;34m,\u001b[0m \u001b[0mmax_Q\u001b[0m\u001b[0;34m,\u001b[0m \u001b[0;34m\"Q\"\u001b[0m\u001b[0;34m)\u001b[0m\u001b[0;34m\u001b[0m\u001b[0;34m\u001b[0m\u001b[0m\n\u001b[1;32m    350\u001b[0m \u001b[0;34m\u001b[0m\u001b[0m\n",
      "\u001b[0;32m/opt/anaconda3/lib/python3.7/site-packages/pmdarima/arima/_validation.py\u001b[0m in \u001b[0;36mcheck_start_max_values\u001b[0;34m(st, mx, argname)\u001b[0m\n\u001b[1;32m     86\u001b[0m         \u001b[0;32mraise\u001b[0m \u001b[0mValueError\u001b[0m\u001b[0;34m(\u001b[0m\u001b[0;34m\"start_%s must be positive\"\u001b[0m \u001b[0;34m%\u001b[0m \u001b[0margname\u001b[0m\u001b[0;34m)\u001b[0m\u001b[0;34m\u001b[0m\u001b[0;34m\u001b[0m\u001b[0m\n\u001b[1;32m     87\u001b[0m     \u001b[0;32mif\u001b[0m \u001b[0mmx\u001b[0m \u001b[0;34m<\u001b[0m \u001b[0mst\u001b[0m\u001b[0;34m:\u001b[0m\u001b[0;34m\u001b[0m\u001b[0;34m\u001b[0m\u001b[0m\n\u001b[0;32m---> 88\u001b[0;31m         \u001b[0;32mraise\u001b[0m \u001b[0mValueError\u001b[0m\u001b[0;34m(\u001b[0m\u001b[0;34m\"max_%s must be >= start_%s\"\u001b[0m \u001b[0;34m%\u001b[0m \u001b[0;34m(\u001b[0m\u001b[0margname\u001b[0m\u001b[0;34m,\u001b[0m \u001b[0margname\u001b[0m\u001b[0;34m)\u001b[0m\u001b[0;34m)\u001b[0m\u001b[0;34m\u001b[0m\u001b[0;34m\u001b[0m\u001b[0m\n\u001b[0m\u001b[1;32m     89\u001b[0m     \u001b[0;32mreturn\u001b[0m \u001b[0mst\u001b[0m\u001b[0;34m,\u001b[0m \u001b[0mmx\u001b[0m\u001b[0;34m\u001b[0m\u001b[0;34m\u001b[0m\u001b[0m\n\u001b[1;32m     90\u001b[0m \u001b[0;34m\u001b[0m\u001b[0m\n",
      "\u001b[0;31mValueError\u001b[0m: max_P must be >= start_P"
     ]
    }
   ],
   "source": [
    "%%time\n",
    "# Intuition Says p is much higher, but since the model was stable at the last\n",
    "# params, let's first try higher P since we observed it did better on brute\n",
    "# force approach at p>= 3, and leave the other components in place this\n",
    "# iteration\n",
    "model3 = pm.auto_arima(train, start_p=5,\n",
    "                       start_P=3,\n",
    "                       start_Q=2,\n",
    "                       D=1,\n",
    "                       suppress_warnings=True,\n",
    "                       error_action='ignore',\n",
    "                       seasonal=True, m=24)"
   ]
  },
  {
   "cell_type": "code",
   "execution_count": 69,
   "metadata": {},
   "outputs": [
    {
     "name": "stdout",
     "output_type": "stream",
     "text": [
      "CPU times: user 9h 56min 35s, sys: 2min 20s, total: 9h 58min 55s\n",
      "Wall time: 2h 30min 41s\n"
     ]
    }
   ],
   "source": [
    "%%time\n",
    "# Interesting, the auto_arima does not automatically update max vals.\n",
    "# Let's do that first, before manually increasing starts:\n",
    "\n",
    "model3 = pm.auto_arima(train, start_p=5,\n",
    "                       max_p=10,\n",
    "                       start_P=2,\n",
    "                       max_P=5,\n",
    "                       start_Q=2,\n",
    "                       D=1,\n",
    "                       suppress_warnings=True,\n",
    "                       error_action='ignore',\n",
    "                       seasonal=True, m=24)\n"
   ]
  },
  {
   "cell_type": "code",
   "execution_count": 70,
   "metadata": {},
   "outputs": [
    {
     "name": "stdout",
     "output_type": "stream",
     "text": [
      "                                      SARIMAX Results                                      \n",
      "===========================================================================================\n",
      "Dep. Variable:                                   y   No. Observations:                  720\n",
      "Model:             SARIMAX(9, 0, 2)x(5, 1, [], 24)   Log Likelihood               -2293.236\n",
      "Date:                             Thu, 03 Sep 2020   AIC                           4620.472\n",
      "Time:                                     03:18:45   BIC                           4697.743\n",
      "Sample:                                          0   HQIC                          4650.350\n",
      "                                             - 720                                         \n",
      "Covariance Type:                               opg                                         \n",
      "==============================================================================\n",
      "                 coef    std err          z      P>|z|      [0.025      0.975]\n",
      "------------------------------------------------------------------------------\n",
      "ar.L1          1.8990      0.054     35.008      0.000       1.793       2.005\n",
      "ar.L2         -1.6327      0.104    -15.770      0.000      -1.836      -1.430\n",
      "ar.L3          0.5660      0.107      5.310      0.000       0.357       0.775\n",
      "ar.L4          0.1340      0.104      1.293      0.196      -0.069       0.337\n",
      "ar.L5         -0.1860      0.103     -1.797      0.072      -0.389       0.017\n",
      "ar.L6         -0.1457      0.099     -1.474      0.141      -0.339       0.048\n",
      "ar.L7          0.4847      0.098      4.936      0.000       0.292       0.677\n",
      "ar.L8         -0.5133      0.090     -5.730      0.000      -0.689      -0.338\n",
      "ar.L9          0.1822      0.046      3.957      0.000       0.092       0.272\n",
      "ma.L1         -1.0512      0.036    -29.395      0.000      -1.121      -0.981\n",
      "ma.L2          0.9233      0.035     26.622      0.000       0.855       0.991\n",
      "ar.S.L24      -0.8305      0.039    -21.506      0.000      -0.906      -0.755\n",
      "ar.S.L48      -0.6752      0.051    -13.197      0.000      -0.776      -0.575\n",
      "ar.S.L72      -0.5956      0.057    -10.450      0.000      -0.707      -0.484\n",
      "ar.S.L96      -0.4117      0.051     -8.011      0.000      -0.512      -0.311\n",
      "ar.S.L120     -0.2916      0.036     -8.046      0.000      -0.363      -0.221\n",
      "sigma2        40.6137      2.057     19.742      0.000      36.582      44.646\n",
      "===================================================================================\n",
      "Ljung-Box (Q):                       32.49   Jarque-Bera (JB):                10.02\n",
      "Prob(Q):                              0.79   Prob(JB):                         0.01\n",
      "Heteroskedasticity (H):               1.03   Skew:                            -0.08\n",
      "Prob(H) (two-sided):                  0.82   Kurtosis:                         3.57\n",
      "===================================================================================\n",
      "\n",
      "Warnings:\n",
      "[1] Covariance matrix calculated using the outer product of gradients (complex-step).\n"
     ]
    }
   ],
   "source": [
    "print(model3.summary())"
   ]
  },
  {
   "cell_type": "code",
   "execution_count": 74,
   "metadata": {},
   "outputs": [
    {
     "data": {
      "text/plain": [
       "Text(0.5, 1.0, 'Test samples vs. forecasts (m=24)')"
      ]
     },
     "execution_count": 74,
     "metadata": {},
     "output_type": "execute_result"
    },
    {
     "data": {
      "image/png": "[encoded data removed]",
      "text/plain": [
       "<Figure size 864x576 with 1 Axes>"
      ]
     },
     "metadata": {
      "needs_background": "light"
     },
     "output_type": "display_data"
    }
   ],
   "source": [
    "fig, ax = plt.subplots(figsize=(12, 8))\n",
    "x = np.arange(test.shape[0])\n",
    "\n",
    "# Plot m=1\n",
    "ax.scatter(x, test, marker='x')\n",
    "ax.plot(x, model3.predict(n_periods=test.shape[0]), color='green')\n",
    "ax.plot(x, model3.predict(n_periods=test.shape[0]), color='red', alpha=0.2)\n",
    "ax.set_title('Test samples vs. forecasts (m=24)')"
   ]
  },
  {
   "cell_type": "markdown",
   "metadata": {},
   "source": [
    "## An Aside on our Business Case While The Above Code Runs:\n",
    "\n",
    "From a Next Day- Next Couple Days Perspective, this is an excellent result.\n",
    "\n",
    "From a weekly perspective (and we'd really like to be at bi-weekly, to solve our employee scheduling use case), we have the following issue:\n",
    "\n",
    "\n",
    "The model predictions relative to where we started are already better enough for this approach to be worth while. The real question now is the stability of the model. In other words, if it takes forever and a day to fit each model object once, that's okay even for 40 models as long as they perform. However, if it turns out that this overfits to the point where the order/seasonal order parameters are unstable, that's not so good. If we only need to feed new data to an existing expensive fit, not a problem, but if we need to refit constantly, these models need to be able to run at no more than say: fifteen minutes per ANC *in parallel* for this to be an effective prediction method from a business perspective. Otherwise, we might as well get some weather data and engineer hourly/day_of_week features and run xgboost.\n",
    "\n",
    "Though stability is the real question, in prototyping, we'd also like to iterate a bit faster, so as a note, one should probably not increase max anything by more than a couple ticks per iteration. The larger the values, the longer the model will need to fit for each iteration, so even without increasing max_iter, we've again expanded this problem quite a bit by increasing max by so much in one go. Don't do this going forward."
   ]
  },
  {
   "cell_type": "code",
   "execution_count": 75,
   "metadata": {},
   "outputs": [
    {
     "name": "stdout",
     "output_type": "stream",
     "text": [
      "inf 13.293591675448216\n"
     ]
    }
   ],
   "source": [
    "mod3_preds = model3.predict(n_periods=test.shape[0])\n",
    "print(MAPE(test, mod3_preds), RMSE(test, mod3_preds))"
   ]
  },
  {
   "cell_type": "markdown",
   "metadata": {},
   "source": [
    "## Evaluation:\n",
    "\n",
    "- Seriously, One Step At a Time, We've Gone From Like Five Minutes Run Time to back to the bad old bruteforce days..\n",
    "\n",
    "- Notable improvement in Ljung-Box, Jarque-Bera, skew and kurtosis look quite good, and more of our coefficients are significant at alpha of 0.05. RMSE improved, though improvement is slowing. We are definitely starting to see limited returns for the additional effort, given the time it took to fit, but before generalizing this approach to all 40 ANCs, let's see how well we can do on this one, and check for similar results on one or two different areas."
   ]
  },
  {
   "cell_type": "code",
   "execution_count": null,
   "metadata": {},
   "outputs": [],
   "source": [
    "%%time\n",
    "# Interesting, the auto_arima does not automatically update max vals.\n",
    "# Let's do that first, before manually increasing starts:\n",
    "\n",
    "model3 = pm.auto_arima(train, start_p=5,\n",
    "                       max_p=10,\n",
    "                       start_P=2,\n",
    "                       max_P=5,\n",
    "                       start_Q=2,\n",
    "                       D=1,\n",
    "                       suppress_warnings=True,\n",
    "                       error_action='ignore',\n",
    "                       seasonal=True, m=24)"
   ]
  },
  {
   "cell_type": "code",
   "execution_count": null,
   "metadata": {},
   "outputs": [],
   "source": []
  },
  {
   "cell_type": "code",
   "execution_count": null,
   "metadata": {},
   "outputs": [],
   "source": []
  },
  {
   "cell_type": "code",
   "execution_count": null,
   "metadata": {},
   "outputs": [],
   "source": []
  },
  {
   "cell_type": "code",
   "execution_count": null,
   "metadata": {},
   "outputs": [],
   "source": []
  },
  {
   "cell_type": "markdown",
   "metadata": {},
   "source": [
    "## Additional Modular Improvements to Test\n",
    "\n",
    "- Pipeline will help with automating this process\n",
    "- Fourier Featurizer may be a better way of representing the weekly seasonality observed than a simple one-hot for is weekend or multiple one-hot for day of week\n",
    "- Cross-validated predictions in addition to cross-validated fits\n",
    "- Functional PCA may have better fits and/or speed this process"
   ]
  },
  {
   "cell_type": "code",
   "execution_count": null,
   "metadata": {},
   "outputs": [],
   "source": [
    "\n",
    "\n",
    "Pipeline(steps=[('fourier', FourierFeaturizer(k=4, m=12)),\n",
    "                ('arima',\n",
    "                 AutoARIMA(error_action='ignore', seasonal=False,\n",
    "                           suppress_warnings=True, trace=1))])\n",
    "\n",
    "## IS THIS FASTER THAN PLAIN SARIMA???\n",
    "\n",
    "# Let's create a pipeline with multiple stages... the Wineind dataset is\n",
    "# seasonal, so we'll include a FourierFeaturizer so we can fit it without\n",
    "# seasonality\n",
    "pipe = pipeline.Pipeline([\n",
    "    (\"fourier\", ppc.FourierFeaturizer(m=12, k=4)),\n",
    "    (\"arima\", arima.AutoARIMA(stepwise=True, trace=1, error_action=\"ignore\",\n",
    "                              seasonal=False,  # because we use Fourier\n",
    "                              suppress_warnings=True))"
   ]
  },
  {
   "cell_type": "code",
   "execution_count": null,
   "metadata": {},
   "outputs": [],
   "source": [
    "## FROM the pmdarima docs again, sample conf_int:\n",
    "## https://alkaline-ml.com/pmdarima/auto_examples/example_pipeline.html#sphx-glr-auto-examples-example-pipeline-py\n",
    "\n",
    "\n",
    "# We can compute predictions the same way we would on a normal ARIMA object:\n",
    "preds, conf_int = pipe.predict(n_periods=10, return_conf_int=True)\n",
    "print(\"\\nForecasts:\")\n",
    "print(preds)\n",
    "\n"
   ]
  },
  {
   "cell_type": "code",
   "execution_count": 71,
   "metadata": {},
   "outputs": [],
   "source": [
    "## This looks like a really good idea, as long as it doesn't run forever\n",
    "\n",
    "# Cross-validation predictions\n",
    "# In addition to computing cross-validation scores, you can use cross-validation\n",
    "# to produce predictions. Unlike traditional cross-validation, where folds \n",
    "# are independent of one another, time-series folds may overlap (particularly\n",
    "# in a sliding window). To account for this, folds that forecast the same time\n",
    "# step average their forecasts using either a “mean” or “median” (tunable)."
   ]
  },
  {
   "cell_type": "code",
   "execution_count": null,
   "metadata": {},
   "outputs": [],
   "source": []
  },
  {
   "cell_type": "code",
   "execution_count": null,
   "metadata": {},
   "outputs": [],
   "source": []
  },
  {
   "cell_type": "code",
   "execution_count": null,
   "metadata": {},
   "outputs": [],
   "source": []
  },
  {
   "cell_type": "code",
   "execution_count": null,
   "metadata": {},
   "outputs": [],
   "source": []
  },
  {
   "cell_type": "markdown",
   "metadata": {},
   "source": [
    "## Functional PCA\n",
    "\n",
    "Thought process informed by the thesis: \"Extending time series forecasting methods using functional\n",
    "principal components analysis\" by Isaac Michael Wagner-Muns, retrieved from https://scholarsmine.mst.edu/cgi/viewcontent.cgi?article=8666&context=masters_theses\n",
    "\n",
    "Python Implementation example found at https://towardsdatascience.com/beyond-classic-pca-functional-principal-components-analysis-fpca-applied-to-time-series-with-python-914c058f47a0 using the fdasrsf package (https://fdasrsf-python.readthedocs.io/en/latest/index.html)"
   ]
  },
  {
   "cell_type": "code",
   "execution_count": null,
   "metadata": {},
   "outputs": [],
   "source": [
    "from fdasrsf import fPCA, time_warping, fdawarp, fdahpca\n",
    "\n",
    "\n",
    "\n",
    "# Rename columns to simplify syntax\n",
    "df = df.rename(columns={\"Code INSEE département\": \"Region\", \"TMax (°C)\": \"Temp\"})\n",
    "\n",
    "# Select 2019 records only\n",
    "df = df[(df[\"Date\"]>=\"2019-01-01\") & (df[\"Date\"]<=\"2019-12-31\")]\n",
    "\n",
    "# Pivot table to get \"Date\" as index and regions as columns \n",
    "df = df.pivot(index='Date', columns='Region', values='Temp')\n",
    "\n",
    "# Select a set of regions across France\n",
    "df = df[[\"06\",\"25\",\"59\",\"62\",\"83\",\"85\",\"75\"]]\n",
    "\n",
    "display(df)\n",
    "\n",
    "# Convert the Pandas dataframe to a Numpy array with time-series only\n",
    "f = df.to_numpy().astype(float)\n",
    "\n",
    "# Create a float vector between 0 and 1 for time index\n",
    "time = np.linspace(0,1,len(f))"
   ]
  }
 ],
 "metadata": {
  "kernelspec": {
   "display_name": "Python 3",
   "language": "python",
   "name": "python3"
  },
  "language_info": {
   "codemirror_mode": {
    "name": "ipython",
    "version": 3
   },
   "file_extension": ".py",
   "mimetype": "text/x-python",
   "name": "python",
   "nbconvert_exporter": "python",
   "pygments_lexer": "ipython3",
   "version": "3.7.6"
  }
 },
 "nbformat": 4,
 "nbformat_minor": 4
}
