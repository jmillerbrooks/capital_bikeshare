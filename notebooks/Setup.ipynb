{
 "cells": [
  {
   "cell_type": "markdown",
   "metadata": {},
   "source": [
    "# Setup\n",
    "\n",
    "## Run this notebook to recreate the data folder of this repository\n",
    "\n",
    "- The data for this project are too large to upload to github. We will instead initialize and populate a data/raw/ folder from this notebook to hold the initial trips data relied on thoughout this project\n",
    "\n",
    "- The extracted csv files will take up approximately 1.1 GB"
   ]
  },
  {
   "cell_type": "code",
   "execution_count": 1,
   "metadata": {},
   "outputs": [],
   "source": [
    "# Imports\n",
    "import os\n",
    "import sys\n",
    "module_path = os.path.abspath(os.path.join(os.pardir))\n",
    "if module_path not in sys.path:\n",
    "    sys.path.append(module_path)\n",
    "import src.extract as extract"
   ]
  },
  {
   "cell_type": "code",
   "execution_count": 2,
   "metadata": {},
   "outputs": [],
   "source": [
    "extract.build_raw_data()"
   ]
  },
  {
   "cell_type": "code",
   "execution_count": 3,
   "metadata": {},
   "outputs": [
    {
     "data": {
      "text/plain": [
       "['201805-capitalbikeshare-tripdata.csv',\n",
       " '201910-capitalbikeshare-tripdata.csv',\n",
       " '202004-capitalbikeshare-tripdata.csv',\n",
       " '201901-capitalbikeshare-tripdata.csv',\n",
       " '201802-capitalbikeshare-tripdata.csv',\n",
       " '201909-capitalbikeshare-tripdata.csv',\n",
       " '202003-capitalbikeshare-tripdata.csv',\n",
       " '201906-capitalbikeshare-tripdata.csv',\n",
       " '202005-capitalbikeshare-tripdata.csv',\n",
       " '201911-capitalbikeshare-tripdata.csv',\n",
       " '201804-capitalbikeshare-tripdata.csv',\n",
       " '202002-capitalbikeshare-tripdata.csv',\n",
       " '201907-capitalbikeshare-tripdata.csv',\n",
       " '201812-capitalbikeshare-tripdata.csv',\n",
       " '201908-capitalbikeshare-tripdata.csv',\n",
       " '201803-capitalbikeshare-tripdata.csv',\n",
       " '202001-capitalbikeshare-tripdata.csv',\n",
       " '201904-capitalbikeshare-tripdata.csv',\n",
       " '201811-capitalbikeshare-tripdata.csv',\n",
       " '202006-capitalbikeshare-tripdata.csv',\n",
       " '201903-capitalbikeshare-tripdata.csv',\n",
       " '201808-capitalbikeshare-tripdata.csv',\n",
       " '201912-capitalbikeshare-tripdata.csv',\n",
       " '201807-capitalbikeshare-tripdata.csv',\n",
       " '201801-capitalbikeshare-tripdata.csv',\n",
       " '201810-capitalbikeshare-tripdata.csv',\n",
       " '201905-capitalbikeshare-tripdata.csv',\n",
       " '201806-capitalbikeshare-tripdata.csv',\n",
       " '201809-capitalbikeshare-tripdata.csv',\n",
       " '202007-capitalbikeshare-tripdata.csv',\n",
       " '201902-capitalbikeshare-tripdata.csv']"
      ]
     },
     "execution_count": 3,
     "metadata": {},
     "output_type": "execute_result"
    }
   ],
   "source": [
    "files = os.listdir('../data/raw')\n",
    "files"
   ]
  },
  {
   "cell_type": "code",
   "execution_count": null,
   "metadata": {},
   "outputs": [],
   "source": []
  }
 ],
 "metadata": {
  "kernelspec": {
   "display_name": "Python 3",
   "language": "python",
   "name": "python3"
  },
  "language_info": {
   "codemirror_mode": {
    "name": "ipython",
    "version": 3
   },
   "file_extension": ".py",
   "mimetype": "text/x-python",
   "name": "python",
   "nbconvert_exporter": "python",
   "pygments_lexer": "ipython3",
   "version": "3.7.6"
  }
 },
 "nbformat": 4,
 "nbformat_minor": 4
}
