{
 "cells": [
  {
   "cell_type": "markdown",
   "metadata": {},
   "source": [
    "# Technical Summary of Process and Results\n",
    "\n",
    "## Summary\n",
    "\n",
    "## Table of Contents\n",
    "\n",
    "* [0. Preliminaries and Setup Instructions](#preliminaries)\n",
    "    * [0.1 PostgreSQL / PostGIS setup](#postgres)\n",
    "    * [0.2 Configuring Your Database Connection in CaBi](#config-files)\n",
    "    * [0.3 Conda Environment](#conda-env)\n",
    "    * [0.4 The CaBi Package](#cabi-package)\n",
    "* [1. Data Sources](#data-sources)\n",
    "    * [1.1 Extract](#extract)\n",
    "    * [1.2 Initial EDA](#eda-initial)\n",
    "* [2. Data Preparation](#data-prep)\n",
    "    * [2.1 Data Processing Steps](#data-processing)\n",
    "    * [2.2 Pre-Modeling EDA](#eda-processed)\n",
    "* [3. The Business Problem: Framing Our Modeling Approach](#business-problem)\n",
    "    * [3.1 Background](#business-background)\n",
    "    * [3.2 Goals](#business-goals)\n",
    "        * [3.2.1 Countercyclical Areas](#countercyclical)\n",
    "        * [3.2.2 Detecting Anomalies](#anomalies)\n",
    "* [4. Modeling](#modeling)\n",
    "    * [4.0 Historical Comparison of Data](#model-historical)\n",
    "        * [4.0.1 Normal Range of Variance](#variance-benchmark)\n",
    "    * [4.1 Benchmark: Baseline Model](#baseline)\n",
    "    * [4.2 Model Evaluation Approach](#evaluation-approach)\n",
    "        * [4.2.1 Tuning Comparison Criteria - AIC](#evaluation-aic)\n",
    "        * [4.2.2 Cross Validation Method](#evaluation-cv)\n",
    "        * [4.2.3 Out of Sample Performance - RMSE/SMAPE](#evaluation-oos)\n",
    "    * [4.3 SARIMA](#sarima)\n",
    "        * [4.3.1 Model Summary](#sarima-summary)\n",
    "        * [4.3.2 Out of Sample Performance](#sarima-performance)\n",
    "        * [4.3.3 Power Transforms](#sarima-tranforms)\n",
    "        * [4.3.4 Structural Limitations](#sarima-limits)\n",
    "    * [4.4 SARIMAX: Adding Exogenous Features](#sarimax)\n",
    "        * [4.4.1 Date Features](#exog-date)\n",
    "        * [4.4.2 Fourier Approach](#exog-fourier)\n",
    "        * [4.4.3 Dummy Filter](#dummy-filter)\n",
    "    * [4.5 Markov Extension: Regime Switching](#markov)\n",
    "    * [4.6 VARMAX???]\n",
    "    * [4.7 Best Model](#best-model)\n",
    "* [5. Evaluation/Results](#results)\n",
    "* [6. Business Recommendations](#business-recommendations)\n",
    "* [7. Further Research/Future Improvements](#further-research)\n",
    "* [8. Sources](#sources)\n",
    "\n",
    "\n",
    "\n"
   ]
  },
  {
   "cell_type": "code",
   "execution_count": null,
   "metadata": {},
   "outputs": [],
   "source": []
  },
  {
   "cell_type": "markdown",
   "metadata": {},
   "source": [
    "## 0. Preliminaries and Setup Instructions <a class=\"anchor\" id=\"preliminaries\"></a>\n",
    "\n",
    "This section is primarily intended for the user to be able to replicate the results of this analysis or extend it more comfortably on new data. Below, I outline the steps for: initializing a PostgreSQL/PostGIS database, creating a config.py file which is necessary to use the database functionality of the CaBi (Capital Bikeshare) package, using the conda environment provided for the project, and installing the CaBi package for local use.\n",
    "\n",
    "\n",
    "### 0.1 PostgreSQL / PostGIS <a class=\"anchor\" id=\"postgres\"></a>\n",
    "\n",
    "Though it is not strictly necessary for the scope of this project as it stands, I highly recommend the use of PostgreSQL/PostGIS as an intermediate storage method if the user plans to revisit the data more than once or twice. The geopandas pickling/other traditional file formats are a bit finicky, and this approach has several advantages. First among these is flexibility with respect to the volume of data handled at any one time. A database approach, in contrast to a pandas dataframe for example, allows the user to load a smaller selection of areas to model at one time, while storing the majority of records elsewhere. Geographical data are already a bit larger to traditional datatypes and if the user wishes to observe longer periods of time the number of observations quickly expands into the millions after just a few months of trip history. Next is extensibility; below we work primarily with counts from a modeling perspective, but in addition to new trips information becoming available monthly, there are a number of logical extensions to this method which incorporate for example, weather data, in conjunction with additional features of the dataset not used for this phase of the project.  A database is well-suited to handle joining and automatically updating these features.\n",
    "\n",
    "One can find the installation instructions for PostgreSQL on their website along with other helpful resources: https://www.postgresql.org/\n",
    "The EDB installer is available for download here: https://www.enterprisedb.com/downloads/postgres-postgresql-downloads\n",
    "For this project we utilize PostGIS to store point geometries for longitude/latitude coordinates. You can install PostGIS as part of the \"Stack Builder\" application distributed with the EDB installer referenced above, or find instructions on their website: https://postgis.net/install/\n",
    "\n",
    "Database schema utilized was a default PostgreSQL database named \"CABI\", which the user can create by using either psql or pgAdmin, and all tables will be generated below directly from python. If it's your first time using postgres/postGIS, you can find a good guide to setting up the database schema here: https://www.e-education.psu.edu/spatialdb/node/1958, but remember to use the name \"CABI.\" \n",
    "\n",
    "\n",
    "One serious advantage of the database approach is that it allows the data to be accessed from more than one computer. For this project I only used a single user and a local network access permission scheme, but it could easily be scaled. It is presumed that users for whom it makes sense to distribute data more than locally, and/or set up multiple user permissions are capable of doing so. However, for those more casual users who would like to utilize the local network approach, instructions are available here: https://www.postgresql.org/docs/12/auth-pg-hba-conf.html\n",
    "\n",
    "An additional note to the first time user wishing to access the database from their local network, which is poorly addressed in the above documentation: once you have modified the pg_hba.conf file, it is necessary to connect to the PostgreSQL instance and run the following, otherwise the modifications will not be recognized:\n",
    "\n",
    "```SELECT pg_reload_conf()```\n",
    "\n",
    "\n",
    "### 0.2 Configuring Your Database Connection in CaBi <a class=\"anchor\" id=\"config-files\"></a>\n",
    "\n",
    "We use a rudimentary method to prevent the user's login credentials from being shared, in order for the CaBi package to work correctly with the database functionality, please do the following *prior to installing the CaBi package.*\n",
    "\n",
    "    1. After forking and cloning the project locally, create a file named \"config.py\" in cabi/etl\n",
    "    2. In config.py define the function connection_params in the following format, filling in the four parameters with the values you defined in setting up the CABI database above:\n",
    "    \n",
    "   ```python\n",
    "    def connection_params():\n",
    "        return 'postgresql://<user>:<password>@<address>:<port>/CABI'\n",
    "   ```\n",
    "           \n",
    "       Note, defaults are probably postgres for user, localhost for address, unless you are connecting over a local network, and 5432 for port, unless you have chosen a different one during setup.\n",
    "        \n",
    "\n",
    "### 0.3 Conda Environment <a class=\"anchor\" id=\"conda-env\"></a>\n",
    "\n",
    "\n",
    "### 0.4 The CaBi package <a class=\"anchor\" id=\"cabi-package\"></a>\n",
    "\n",
    "\n",
    "\n"
   ]
  },
  {
   "cell_type": "code",
   "execution_count": null,
   "metadata": {},
   "outputs": [],
   "source": []
  },
  {
   "cell_type": "markdown",
   "metadata": {},
   "source": [
    "## 1. Data Sources <a class=\"anchor\" id=\"data-sources\"></a>\n",
    "\n",
    "### 1.1 Extract <a class=\"anchor\" id=\"extract\"></a>\n",
    "\n",
    "### 1.2 Initial EDA <a class=\"anchor\" id=\"eda-initial\"></a>\n",
    "\n",
    "\n"
   ]
  },
  {
   "cell_type": "code",
   "execution_count": null,
   "metadata": {},
   "outputs": [],
   "source": []
  },
  {
   "cell_type": "markdown",
   "metadata": {},
   "source": [
    "## 2. Data Preparation <a class=\"anchor\" id=\"data-prep\"></a>\n",
    "\n",
    "\n",
    "### 2.1 Data Processing Steps <a class=\"anchor\" id=\"data-processing\"></a>\n",
    "\n",
    "### 2.2 Pre-Modeling EDA <a class=\"anchor\" id=\"eda-processed\"></a>\n",
    "\n",
    "\n"
   ]
  },
  {
   "cell_type": "code",
   "execution_count": null,
   "metadata": {},
   "outputs": [],
   "source": []
  },
  {
   "cell_type": "markdown",
   "metadata": {},
   "source": [
    "## 3. The Business Problem: Framing Our Modeling Approach <a class=\"anchor\" id=\"business-problem\"></a>"
   ]
  },
  {
   "cell_type": "code",
   "execution_count": null,
   "metadata": {},
   "outputs": [],
   "source": []
  },
  {
   "cell_type": "markdown",
   "metadata": {},
   "source": [
    "### 3.1 Background <a class=\"anchor\" id=\"business-background\"></a>"
   ]
  },
  {
   "cell_type": "code",
   "execution_count": null,
   "metadata": {},
   "outputs": [],
   "source": []
  },
  {
   "cell_type": "markdown",
   "metadata": {},
   "source": [
    "### 3.2 Goals <a class=\"anchor\" id=\"business-goals\"></a>"
   ]
  },
  {
   "cell_type": "code",
   "execution_count": null,
   "metadata": {},
   "outputs": [],
   "source": []
  },
  {
   "cell_type": "markdown",
   "metadata": {},
   "source": [
    "#### 3.2.1 Countercyclical Areas <a class=\"anchor\" id=\"countercyclical\"></a>"
   ]
  },
  {
   "cell_type": "code",
   "execution_count": null,
   "metadata": {},
   "outputs": [],
   "source": []
  },
  {
   "cell_type": "markdown",
   "metadata": {},
   "source": [
    "#### 3.2.2 Detecting Anomalies <a class=\"anchor\" id=\"anomalies\"></a>\n"
   ]
  },
  {
   "cell_type": "code",
   "execution_count": null,
   "metadata": {},
   "outputs": [],
   "source": []
  },
  {
   "cell_type": "markdown",
   "metadata": {},
   "source": [
    "## 4. Modeling <a class=\"anchor\" id=\"modeling\"></a>\n",
    "\n",
    "        \n",
    "        "
   ]
  },
  {
   "cell_type": "markdown",
   "metadata": {},
   "source": [
    "### 4.0 Historical Comparison of Data <a class=\"anchor\" id=\"model-historical\"></a>"
   ]
  },
  {
   "cell_type": "code",
   "execution_count": null,
   "metadata": {},
   "outputs": [],
   "source": []
  },
  {
   "cell_type": "markdown",
   "metadata": {},
   "source": [
    "#### 4.0.1 Normal Range of Variance <a class=\"anchor\" id=\"variance-benchmark\"></a>"
   ]
  },
  {
   "cell_type": "code",
   "execution_count": null,
   "metadata": {},
   "outputs": [],
   "source": []
  },
  {
   "cell_type": "markdown",
   "metadata": {},
   "source": [
    "### 4.1 Benchmark: Baseline Model <a class=\"anchor\" id=\"baseline\"></a>  "
   ]
  },
  {
   "cell_type": "code",
   "execution_count": null,
   "metadata": {},
   "outputs": [],
   "source": []
  },
  {
   "cell_type": "markdown",
   "metadata": {},
   "source": [
    "### 4.2 Model Evaluation Approach <a class=\"anchor\" id=\"evaluation-approach\"></a>  "
   ]
  },
  {
   "cell_type": "code",
   "execution_count": null,
   "metadata": {},
   "outputs": [],
   "source": []
  },
  {
   "cell_type": "markdown",
   "metadata": {},
   "source": [
    "#### 4.2.1 Tuning Comparison Criteria - AIC <a class=\"anchor\" id=\"evaluation-aic\"></a>  "
   ]
  },
  {
   "cell_type": "code",
   "execution_count": null,
   "metadata": {},
   "outputs": [],
   "source": []
  },
  {
   "cell_type": "markdown",
   "metadata": {},
   "source": [
    "#### 4.2.2 Cross Validation Method <a class=\"anchor\" id=\"evaluation-cv\"></a>  "
   ]
  },
  {
   "cell_type": "code",
   "execution_count": null,
   "metadata": {},
   "outputs": [],
   "source": []
  },
  {
   "cell_type": "markdown",
   "metadata": {},
   "source": [
    "#### 4.2.3 Out of Sample Performance - RMSE/SMAPE <a class=\"anchor\" id=\"evaluation-oos\"></a>"
   ]
  },
  {
   "cell_type": "code",
   "execution_count": null,
   "metadata": {},
   "outputs": [],
   "source": []
  },
  {
   "cell_type": "markdown",
   "metadata": {},
   "source": [
    "### 4.3 SARIMA <a class=\"anchor\" id=\"sarima\"></a>"
   ]
  },
  {
   "cell_type": "code",
   "execution_count": null,
   "metadata": {},
   "outputs": [],
   "source": []
  },
  {
   "cell_type": "markdown",
   "metadata": {},
   "source": [
    "#### 4.3.1 Model Summary <a class=\"anchor\" id=\"sarima-summary\"></a>"
   ]
  },
  {
   "cell_type": "code",
   "execution_count": null,
   "metadata": {},
   "outputs": [],
   "source": []
  },
  {
   "cell_type": "markdown",
   "metadata": {},
   "source": [
    "#### 4.3.2 Out of Sample Performance <a class=\"anchor\" id=\"sarima-performance\"></a>"
   ]
  },
  {
   "cell_type": "code",
   "execution_count": null,
   "metadata": {},
   "outputs": [],
   "source": []
  },
  {
   "cell_type": "markdown",
   "metadata": {},
   "source": [
    "#### 4.3.3 Power Transforms <a class=\"anchor\" id=\"sarima-transforms\"></a>"
   ]
  },
  {
   "cell_type": "code",
   "execution_count": null,
   "metadata": {},
   "outputs": [],
   "source": []
  },
  {
   "cell_type": "markdown",
   "metadata": {},
   "source": [
    "#### 4.3.4 Structural Limitations  <a class=\"anchor\" id=\"sarima-limits\"></a>"
   ]
  },
  {
   "cell_type": "code",
   "execution_count": null,
   "metadata": {},
   "outputs": [],
   "source": []
  },
  {
   "cell_type": "markdown",
   "metadata": {},
   "source": [
    "### 4.4 SARIMAX: Adding Exogenous Features  <a class=\"anchor\" id=\"sarimax\"></a>\n"
   ]
  },
  {
   "cell_type": "markdown",
   "metadata": {},
   "source": [
    "#### 4.4.1 Date Features  <a class=\"anchor\" id=\"exog-date\"></a>\n"
   ]
  },
  {
   "cell_type": "code",
   "execution_count": null,
   "metadata": {},
   "outputs": [],
   "source": []
  },
  {
   "cell_type": "markdown",
   "metadata": {},
   "source": [
    "#### 4.4.2 Fourier Approach  <a class=\"anchor\" id=\"exog-fourier\"></a>\n"
   ]
  },
  {
   "cell_type": "code",
   "execution_count": null,
   "metadata": {},
   "outputs": [],
   "source": []
  },
  {
   "cell_type": "markdown",
   "metadata": {},
   "source": [
    "#### 4.4.3 Dummy Filter <a class=\"anchor\" id=\"dummy-filter\"></a>"
   ]
  },
  {
   "cell_type": "code",
   "execution_count": null,
   "metadata": {},
   "outputs": [],
   "source": []
  },
  {
   "cell_type": "markdown",
   "metadata": {},
   "source": [
    "### 4.5 Markov Extension: Regime Switching <a class=\"anchor\" id=\"markov\"></a>"
   ]
  },
  {
   "cell_type": "code",
   "execution_count": null,
   "metadata": {},
   "outputs": [],
   "source": []
  },
  {
   "cell_type": "markdown",
   "metadata": {},
   "source": [
    "### 4.6 VARMAX OR OTHER MODEL APPROACH?!?! <a class=\"anchor\" id=\"best-model\"></a>"
   ]
  },
  {
   "cell_type": "code",
   "execution_count": null,
   "metadata": {},
   "outputs": [],
   "source": []
  },
  {
   "cell_type": "markdown",
   "metadata": {},
   "source": [
    "### 4.7 Best Model <a class=\"anchor\" id=\"best-model\"></a>"
   ]
  },
  {
   "cell_type": "code",
   "execution_count": null,
   "metadata": {},
   "outputs": [],
   "source": []
  },
  {
   "cell_type": "markdown",
   "metadata": {},
   "source": [
    "## 5. Evaluation/Results  <a class=\"anchor\" id=\"results\"></a>\n"
   ]
  },
  {
   "cell_type": "code",
   "execution_count": null,
   "metadata": {},
   "outputs": [],
   "source": []
  },
  {
   "cell_type": "markdown",
   "metadata": {},
   "source": [
    "## 6. Business Recommendations <a class=\"anchor\" id=\"business-recommendations\"></a>\n"
   ]
  },
  {
   "cell_type": "code",
   "execution_count": null,
   "metadata": {},
   "outputs": [],
   "source": []
  },
  {
   "cell_type": "markdown",
   "metadata": {},
   "source": [
    "## 7. Further Research/Future Improvements <a class=\"anchor\" id=\"further-research\"></a>\n"
   ]
  },
  {
   "cell_type": "code",
   "execution_count": null,
   "metadata": {},
   "outputs": [],
   "source": []
  },
  {
   "cell_type": "markdown",
   "metadata": {},
   "source": [
    "## 8. Sources <a class=\"anchor\" id=\"sources\"></a>"
   ]
  },
  {
   "cell_type": "code",
   "execution_count": null,
   "metadata": {},
   "outputs": [],
   "source": []
  }
 ],
 "metadata": {
  "kernelspec": {
   "display_name": "cabi-env",
   "language": "python",
   "name": "cabi-env"
  },
  "language_info": {
   "codemirror_mode": {
    "name": "ipython",
    "version": 3
   },
   "file_extension": ".py",
   "mimetype": "text/x-python",
   "name": "python",
   "nbconvert_exporter": "python",
   "pygments_lexer": "ipython3",
   "version": "3.8.5"
  }
 },
 "nbformat": 4,
 "nbformat_minor": 4
}
